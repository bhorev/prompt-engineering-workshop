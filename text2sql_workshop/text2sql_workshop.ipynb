{
 "cells": [
  {
   "cell_type": "markdown",
   "id": "ac8f55d1-41e3-443b-810c-3fe2b0102248",
   "metadata": {
    "tags": []
   },
   "source": [
    "#  Workshop Initiation\n",
    "\n",
    "Welcome to our Text-to-SQL workshop! \n",
    "Have you ever struggled to bridge the gap between natural language queries and complex database interactions? As businesses seek more intuitive ways to extract insights from their data, Text-to-SQL technology has emerged as a critical solution for democratizing data access. In this workshop, we'll dive deep into practical prompt engineering techniques that transform natural language into precise SQL queries.\n",
    "\n",
    "Through hands-on activities and expert guidance, you'll explore schema incorporation, prompt optimization, advanced templates, few-shot learning strategies, and innovative approaches like using Retrieval Augmented Generation (RAG) models. Our goal is to equip you with the skills to craft effective prompts that enable accurate and reliable natural language to SQL translation."
   ]
  },
  {
   "cell_type": "code",
   "execution_count": null,
   "id": "59aee508-4acf-4ce7-be44-fc111ade0f2c",
   "metadata": {
    "tags": []
   },
   "outputs": [],
   "source": [
    "region = 'us-west-2'\n",
    "anthropic_sonnet = \"anthropic.claude-3-sonnet-20240229-v1:0\"\n",
    "anthropic_haiku = \"anthropic.claude-3-haiku-20240307-v1:0\"\n",
    "mistral7b = \"mistral.mistral-7b-instruct-v0:2\"\n",
    "mistral_large = \"mistral.mistral-large-2402-v1:0\"\n",
    "\n",
    "model_arn = f'arn:aws:bedrock:{region}::foundation-model/{anthropic_sonnet}'\n",
    "session_id = None\n",
    "\n",
    "%pip install -U \"boto3\" \"botocore\" \"langchain-community\"\n",
    "\n",
    "import json\n",
    "import boto3\n",
    "from helpers import *\n",
    "\n",
    "\n",
    "bedrock_runtime = boto3.client('bedrock-runtime')\n",
    "bedrock_agent_runtime = boto3.client('bedrock-agent-runtime')"
   ]
  },
  {
   "cell_type": "code",
   "execution_count": null,
   "id": "966d3879-31d1-445f-a8a5-0468eeb28f38",
   "metadata": {
    "tags": []
   },
   "outputs": [],
   "source": [
    "def invoke_mistral_model(prompt, modelId):\n",
    "    request_body = json.dumps({\n",
    "        \"prompt\": \"<s>[INST] \" + prompt + \" [/INST]\",\n",
    "        \"max_tokens\" : 400, \n",
    "        \"temperature\" : 0, \n",
    "        \"top_p\" : 0.9, \n",
    "        \"top_k\" : 50\n",
    "    })\n",
    "    response = bedrock_runtime.invoke_model(\n",
    "            body = request_body,\n",
    "            modelId = modelId\n",
    "    )\n",
    "    response_body = json.loads(response.get(\"body\").read())\n",
    "    return response_body.get('outputs')[0].get('text')"
   ]
  },
  {
   "cell_type": "code",
   "execution_count": null,
   "id": "c2a938d3-3c7c-428a-a450-1a997e6f3fba",
   "metadata": {
    "tags": []
   },
   "outputs": [],
   "source": [
    " def invoke_anthropic_model(modelId, prompt):\n",
    "        inferenceConfig = { \n",
    "            \"maxTokens\": 400,\n",
    "            \"temperature\": 0\n",
    "        }\n",
    "        messages = [{\n",
    "            \"role\": \"user\",\n",
    "            \"content\": [{\n",
    "                \"text\": prompt\n",
    "            }]\n",
    "        }]\n",
    "        response = bedrock_runtime.converse(\n",
    "            messages = messages,\n",
    "            inferenceConfig = inferenceConfig,\n",
    "            modelId = modelId\n",
    "        )\n",
    "        return response['output']['message']['content'][0]['text']"
   ]
  },
  {
   "cell_type": "code",
   "execution_count": null,
   "id": "6fcc6558-93da-4cee-8bee-3176e1f83cb9",
   "metadata": {
    "tags": []
   },
   "outputs": [],
   "source": [
    "file_name = \"Schema-Rag\"\n",
    "def retrieveAndGenerate(input_text):\n",
    "    input = {'text': input_text}\n",
    "    config = {\n",
    "        'type': 'EXTERNAL_SOURCES',\n",
    "        'externalSourcesConfiguration': {\n",
    "            'modelArn': model_arn,\n",
    "            'sources': [\n",
    "                {\n",
    "                    \"byteContent\": {\n",
    "                        \"contentType\": \"text/plain\",\n",
    "                        \"data\": open(file_name, \"rb\").read(),\n",
    "                        \"identifier\": file_name\n",
    "                      },\n",
    "                    \"sourceType\": \"BYTE_CONTENT\"  \n",
    "                }\n",
    "            ]\n",
    "        }\n",
    "    }\n",
    "    response = bedrock_agent_runtime.retrieve_and_generate(\n",
    "        input = input,\n",
    "        retrieveAndGenerateConfiguration = config,\n",
    "        )\n",
    "    \n",
    "    return response['output']['text']"
   ]
  },
  {
   "cell_type": "markdown",
   "id": "bebd972d-7ccb-4a19-913c-54cce47138a5",
   "metadata": {
    "tags": []
   },
   "source": [
    "# Database Creation\n",
    "\n",
    "We are creating two databases for our workshop:\n",
    "\n",
    "1. Anycompany: A standard database with comprehensive column descriptions\n",
    "2. Chaos_anycompany: A database with modified column names and limited descriptive metadata\n",
    "   \n",
    "In the chaos_anycompany database, we discovered critical column name modifications that impact data interpretability. This exercise will examine the implications of reduced column descriptions and potential risks to data comprehension."
   ]
  },
  {
   "cell_type": "code",
   "execution_count": null,
   "id": "8ee1e288-01cc-4559-b570-aa14e9621f1e",
   "metadata": {
    "tags": []
   },
   "outputs": [],
   "source": [
    "import pandas as pd\n",
    "from langchain_community.utilities import SQLDatabase\n",
    "from sqlalchemy import create_engine\n",
    "\n",
    "def prepSQLDB():\n",
    "    df_orders = pd.read_csv(\"orders.csv\", delimiter=',')\n",
    "    df_offices = pd.read_csv(\"offices.csv\", delimiter=',')\n",
    "    df_payments = pd.read_csv(\"payments.csv\", delimiter=',')   \n",
    "    df_products = pd.read_csv(\"products.csv\", delimiter=',')\n",
    "    df_productlines = pd.read_csv(\"productlines.csv\", delimiter=',')  \n",
    "    df_customers = pd.read_csv(\"customers.csv\", delimiter=',')\n",
    "    df_employees = pd.read_csv(\"employees.csv\", delimiter=',')\n",
    "    df_orderdetails = pd.read_csv(\"orderdetails.csv\", delimiter=',')\n",
    "\n",
    "    engine = create_engine(\"sqlite:///anycompany.db\")\n",
    "\n",
    "    df_orders.to_sql(\"orders\", engine, index=False)\n",
    "    df_offices.to_sql(\"offices\", engine, index=False)\n",
    "    df_payments.to_sql(\"payments\", engine, index=False)\n",
    "    df_products.to_sql(\"products\", engine, index=False)\n",
    "    df_productlines.to_sql(\"productlines\", engine, index=False)\n",
    "    df_customers.to_sql(\"customers\", engine, index=False)\n",
    "    df_employees.to_sql(\"employees\", engine, index=False)\n",
    "    df_orderdetails.to_sql(\"orderdetails\", engine, index=False)\n",
    "    "
   ]
  },
  {
   "cell_type": "code",
   "execution_count": null,
   "id": "d906db42-1b77-4987-b640-b3e87e0936b4",
   "metadata": {
    "tags": []
   },
   "outputs": [],
   "source": [
    "def querySQL(statement):\n",
    "    engine = create_engine(\"sqlite:///anycompany.db\")\n",
    "    db = SQLDatabase(engine=engine)\n",
    "    return db.run(statement)\n"
   ]
  },
  {
   "cell_type": "code",
   "execution_count": null,
   "id": "f4e99d26-ae30-49ef-9044-8c27e444f46d",
   "metadata": {
    "scrolled": true,
    "tags": []
   },
   "outputs": [],
   "source": [
    "prepSQLDB()"
   ]
  },
  {
   "cell_type": "code",
   "execution_count": null,
   "id": "125952ab-fb00-417a-b90b-5cd77d947314",
   "metadata": {
    "tags": []
   },
   "outputs": [],
   "source": [
    "import pandas as pd\n",
    "from langchain_community.utilities import SQLDatabase\n",
    "from sqlalchemy import create_engine\n",
    "\n",
    "def prepChaosSQLDB():\n",
    "    df_orders = pd.read_csv(\"chaos_orders.csv\", delimiter=',')\n",
    "    df_offices = pd.read_csv(\"chaos_offices.csv\", delimiter=',')\n",
    "    df_payments = pd.read_csv(\"chaos_payments.csv\", delimiter=',')   \n",
    "    df_products = pd.read_csv(\"chaos_products.csv\", delimiter=',')\n",
    "    df_productlines = pd.read_csv(\"chaos_productlines.csv\", delimiter=',')  \n",
    "    df_customers = pd.read_csv(\"chaos_customers.csv\", delimiter=',')\n",
    "    df_employees = pd.read_csv(\"chaos_employees.csv\", delimiter=',')\n",
    "    df_orderdetails = pd.read_csv(\"chaos_orderdetails.csv\", delimiter=',')\n",
    "\n",
    "    engine = create_engine(\"sqlite:///chaos_anycompany.db\")\n",
    "\n",
    "    df_orders.to_sql(\"chaos_orders\", engine, index=False)\n",
    "    df_offices.to_sql(\"chaos_offices\", engine, index=False)\n",
    "    df_payments.to_sql(\"chaos_payments\", engine, index=False)\n",
    "    df_products.to_sql(\"chaos_products\", engine, index=False)\n",
    "    df_productlines.to_sql(\"chaos_productlines\", engine, index=False)\n",
    "    df_customers.to_sql(\"chaos_customers\", engine, index=False)\n",
    "    df_employees.to_sql(\"chaos_employees\", engine, index=False)\n",
    "    df_orderdetails.to_sql(\"chaos_orderdetails\", engine, index=False)\n",
    "    "
   ]
  },
  {
   "cell_type": "code",
   "execution_count": null,
   "id": "8bf78a02-194f-4588-b074-1d86160c33c7",
   "metadata": {
    "tags": []
   },
   "outputs": [],
   "source": [
    "def querySQL_chaos(statement):\n",
    "    engine = create_engine(\"sqlite:///chaos_anycompany.db\")\n",
    "    db = SQLDatabase(engine=engine)\n",
    "    return db.run(statement)\n"
   ]
  },
  {
   "cell_type": "code",
   "execution_count": null,
   "id": "7d83020e-571f-4314-b290-14d15ab707f0",
   "metadata": {
    "scrolled": true,
    "tags": []
   },
   "outputs": [],
   "source": [
    "prepChaosSQLDB()"
   ]
  },
  {
   "cell_type": "markdown",
   "id": "4f98513f-f121-4d65-9c12-92f881df5013",
   "metadata": {
    "tags": []
   },
   "source": [
    "# Text2SQL \n",
    "  \n"
   ]
  },
  {
   "cell_type": "markdown",
   "id": "782293b1-c1e2-4c77-8a1c-bf73b7326077",
   "metadata": {
    "tags": []
   },
   "source": [
    "# Scenario  1 - Basic Schema Incorporation\n",
    "This scenario demonstrates how providing schema descriptions can significantly improve SQL query generation accuracy. This exercise highlights the critical role of contextual information in generating accurate SQL queries. By comparing the results, we can observe how schema incorporation enhances query precision and reduces errors caused by incorrect column name inference.\n",
    "\n",
    "  - Model: Mistral AI - Mistral 7B Instruct\n",
    "  - Techniques:\n",
    "    - Schema Incorporation\n",
    "    - Prompt Optimization\n",
    "  - Use-Case: Listing San Francisco employees\n",
    "    - Query 1: Without schema description\n",
    "    - Query 2: With schema description\n",
    "    - Query 3: With optimized schema description\n"
   ]
  },
  {
   "cell_type": "code",
   "execution_count": null,
   "id": "7f1e15d8-98e9-4427-83a9-b245cc7f02ef",
   "metadata": {
    "tags": []
   },
   "outputs": [],
   "source": [
    "question = \"List the full names of all San Francisco employees\"\n",
    "\n",
    "prompt = \"\"\"\n",
    "Your task is to generate the simplest and most effective SQL query. Output only SQL, without comments.\n",
    "Given tables called: productlines, products, offices, employees, customers, orders, payments, orderdetails\n",
    "\n",
    "\n",
    "Write a SQL statement to answer the question:\n",
    "\"\"\" + question + \"\"\"\n",
    "\n",
    "```sql\n",
    "\"\"\""
   ]
  },
  {
   "cell_type": "code",
   "execution_count": null,
   "id": "9a66419a-5375-4e59-a4e4-0539b4104e0d",
   "metadata": {
    "tags": []
   },
   "outputs": [],
   "source": [
    "query_1_scenario_1 = invoke_mistral_model(prompt, mistral7b)\n",
    "print(query_1_scenario_1)"
   ]
  },
  {
   "cell_type": "code",
   "execution_count": null,
   "id": "0e6bacfc-55b0-42a1-a319-832d0eecb0f5",
   "metadata": {
    "tags": []
   },
   "outputs": [],
   "source": [
    "question = \"List the full names of all San Francisco employees\"\n",
    "\n",
    "prompt = \"\"\"\n",
    "Your task is to generate the simplest and most effective SQL query. Output only SQL, without comments.\n",
    "Given these tables:\n",
    "productlines (\n",
    "  productLine varchar(50),\n",
    "  textDescription varchar(4000) DEFAULT NULL,\n",
    "  htmlDescription mediumtext,\n",
    "  image mediumblob,\n",
    "  PRIMARY KEY (productLine)\n",
    ");\n",
    "\n",
    "products (\n",
    "  productCode varchar(15),\n",
    "  productName varchar(70) NOT NULL,\n",
    "  productLine varchar(50) NOT NULL,\n",
    "  productScale varchar(10) NOT NULL,\n",
    "  productVendor varchar(50) NOT NULL,\n",
    "  productDescription text NOT NULL,\n",
    "  quantityInStock smallint(6) NOT NULL,\n",
    "  buyPrice decimal(10,2) NOT NULL,\n",
    "  MSRP decimal(10,2) NOT NULL,\n",
    "  PRIMARY KEY (productCode),\n",
    "  FOREIGN KEY (productLine) REFERENCES productlines (productLine)\n",
    ");\n",
    "\n",
    "offices (\n",
    "  officeCode varchar(10),\n",
    "  city varchar(50) NOT NULL,\n",
    "  phone varchar(50) NOT NULL,\n",
    "  addressLine1 varchar(50) NOT NULL,\n",
    "  addressLine2 varchar(50) DEFAULT NULL,\n",
    "  state varchar(50) DEFAULT NULL,\n",
    "  country varchar(50) NOT NULL,\n",
    "  postalCode varchar(15) NOT NULL,\n",
    "  territory varchar(10) NOT NULL,\n",
    "  PRIMARY KEY (officeCode)\n",
    ");\n",
    "\n",
    "employees (\n",
    "  employeeNumber int,\n",
    "  lastName varchar(50) NOT NULL,\n",
    "  firstName varchar(50) NOT NULL,\n",
    "  extension varchar(10) NOT NULL,\n",
    "  email varchar(100) NOT NULL,\n",
    "  officeCode varchar(10) NOT NULL,\n",
    "  reportsTo int DEFAULT NULL,\n",
    "  jobTitle varchar(50) NOT NULL,\n",
    "  PRIMARY KEY (employeeNumber),\n",
    "  FOREIGN KEY (reportsTo) REFERENCES employees (employeeNumber),\n",
    "  FOREIGN KEY (officeCode) REFERENCES offices (officeCode)\n",
    ");\n",
    "\n",
    "customers (\n",
    "  customerNumber int,\n",
    "  customerName varchar(50) NOT NULL,\n",
    "  contactLastName varchar(50) NOT NULL,\n",
    "  contactFirstName varchar(50) NOT NULL,\n",
    "  phone varchar(50) NOT NULL,\n",
    "  addressLine1 varchar(50) NOT NULL,\n",
    "  addressLine2 varchar(50) DEFAULT NULL,\n",
    "  city varchar(50) NOT NULL,\n",
    "  state varchar(50) DEFAULT NULL,\n",
    "  postalCode varchar(15) DEFAULT NULL,\n",
    "  country varchar(50) NOT NULL,\n",
    "  salesRepEmployeeNumber int DEFAULT NULL,\n",
    "  creditLimit decimal(10,2) DEFAULT NULL,\n",
    "  PRIMARY KEY (customerNumber),\n",
    "  FOREIGN KEY (salesRepEmployeeNumber) REFERENCES employees (employeeNumber)\n",
    ");\n",
    "\n",
    "payments (\n",
    "  customerNumber int,\n",
    "  checkNumber varchar(50) NOT NULL,\n",
    "  paymentDate date NOT NULL,\n",
    "  amount decimal(10,2) NOT NULL,\n",
    "  PRIMARY KEY (customerNumber,checkNumber),\n",
    "  FOREIGN KEY (customerNumber) REFERENCES customers (customerNumber)\n",
    ");\n",
    "\n",
    "orders (\n",
    "  orderNumber int,\n",
    "  orderDate date NOT NULL,\n",
    "  requiredDate date NOT NULL,\n",
    "  shippedDate date DEFAULT NULL,\n",
    "  status varchar(15) NOT NULL,\n",
    "  comments text,\n",
    "  customerNumber int NOT NULL,\n",
    "  PRIMARY KEY (orderNumber),\n",
    "  FOREIGN KEY (customerNumber) REFERENCES customers (customerNumber)\n",
    ");\n",
    "\n",
    "orderdetails (\n",
    "  orderNumber int,\n",
    "  productCode varchar(15) NOT NULL,\n",
    "  quantityOrdered int NOT NULL,\n",
    "  priceEach decimal(10,2) NOT NULL,\n",
    "  orderLineNumber smallint(6) NOT NULL,\n",
    "  PRIMARY KEY (orderNumber,productCode),\n",
    "  FOREIGN KEY (orderNumber) REFERENCES orders (orderNumber),\n",
    "  FOREIGN KEY (productCode) REFERENCES products (productCode)\n",
    ");\n",
    "\n",
    "Write a SQL statement to answer the question:\n",
    "\"\"\" + question + \"\"\"\n",
    "\n",
    "```sql\n",
    "\"\"\""
   ]
  },
  {
   "cell_type": "code",
   "execution_count": null,
   "id": "4ce12166-a4ae-47b5-987a-480a79125ea3",
   "metadata": {
    "tags": []
   },
   "outputs": [],
   "source": [
    "query_2_scenario_1 = invoke_mistral_model(prompt, mistral7b)\n",
    "print(query_2_scenario_1)"
   ]
  },
  {
   "cell_type": "code",
   "execution_count": null,
   "id": "bf7ab2ba-8bb7-4cb5-ae6d-918bbd69b76a",
   "metadata": {
    "tags": []
   },
   "outputs": [],
   "source": [
    "question = \"List the full names of all San Francisco employees\"\n",
    "\n",
    "prompt = \"\"\"\n",
    "Your task is to generate the simplest and most effective SQL query. Output only SQL, without comments.\n",
    "Given these tables:\n",
    "offices (\n",
    "  officeCode varchar(10),\n",
    "  city varchar(50) NOT NULL,\n",
    "  phone varchar(50) NOT NULL,\n",
    "  addressLine1 varchar(50) NOT NULL,\n",
    "  addressLine2 varchar(50) DEFAULT NULL,\n",
    "  state varchar(50) DEFAULT NULL,\n",
    "  country varchar(50) NOT NULL,\n",
    "  postalCode varchar(15) NOT NULL,\n",
    "  territory varchar(10) NOT NULL,\n",
    "  PRIMARY KEY (officeCode)\n",
    ");\n",
    "\n",
    "employees (\n",
    "  employeeNumber int,\n",
    "  lastName varchar(50) NOT NULL,\n",
    "  firstName varchar(50) NOT NULL,\n",
    "  extension varchar(10) NOT NULL,\n",
    "  email varchar(100) NOT NULL,\n",
    "  officeCode varchar(10) NOT NULL,\n",
    "  reportsTo int DEFAULT NULL,\n",
    "  jobTitle varchar(50) NOT NULL,\n",
    "  PRIMARY KEY (employeeNumber),\n",
    "  FOREIGN KEY (reportsTo) REFERENCES employees (employeeNumber),\n",
    "  FOREIGN KEY (officeCode) REFERENCES offices (officeCode)\n",
    ");\n",
    "\n",
    "Write a SQL statement to answer the question:\n",
    "\"\"\" + question + \"\"\"\n",
    "\n",
    "```sql\n",
    "\"\"\""
   ]
  },
  {
   "cell_type": "code",
   "execution_count": null,
   "id": "0ac1de3a-a7d8-43d8-8ca7-c80a786fdfea",
   "metadata": {
    "scrolled": true,
    "tags": []
   },
   "outputs": [],
   "source": [
    "query_3_scenario_1 = invoke_mistral_model(prompt, mistral7b)\n",
    "print(query_3_scenario_1)"
   ]
  },
  {
   "cell_type": "markdown",
   "id": "c464a057-23a1-40db-b382-00782d5a8f7f",
   "metadata": {
    "tags": []
   },
   "source": [
    "# Queries Execution\n",
    "\n"
   ]
  },
  {
   "cell_type": "code",
   "execution_count": null,
   "id": "2ed3e34f-9941-4562-a9cb-0642d1f1a60b",
   "metadata": {
    "tags": []
   },
   "outputs": [],
   "source": [
    "res = querySQL(query_1_scenario_1)\n",
    "prettyJSON(res)"
   ]
  },
  {
   "cell_type": "code",
   "execution_count": null,
   "id": "50f68513-0589-4e40-99f4-da08a3b4e572",
   "metadata": {
    "scrolled": true,
    "tags": []
   },
   "outputs": [],
   "source": [
    "res = querySQL(query_2_scenario_1)\n",
    "prettyJSON(res)"
   ]
  },
  {
   "cell_type": "code",
   "execution_count": null,
   "id": "e67f3fd6-d0e8-4a49-8e24-5164cbe41783",
   "metadata": {
    "tags": []
   },
   "outputs": [],
   "source": [
    "res = querySQL(query_3_scenario_1)\n",
    "prettyJSON(res)"
   ]
  },
  {
   "cell_type": "markdown",
   "id": "980cfc42-fed9-47ce-a12e-18e6d328f749",
   "metadata": {
    "tags": []
   },
   "source": [
    "## Querty Generation Results\n",
    "- Query 1: Incorrect - Used wrong column names\n",
    "- Query 2: Correct - Generated after incorporating schema description\n",
    "- Query 3: Correct - Generated with optimized prompt (reduced irrelevant tables and columns)\n",
    "\n",
    "## Key Findings\n",
    "- Schema incorporation significantly improves query accuracy\n",
    "- Optimizing the prompt by reducing irrelevant tables and columns for our question"
   ]
  },
  {
   "cell_type": "markdown",
   "id": "4155cdb6-60e4-4a93-baa0-fe49802adfe9",
   "metadata": {
    "tags": []
   },
   "source": [
    "## Scenario  2 - Enhancing SQL Query Accuracy with Table Relationships\n",
    "\n",
    "This scenario demonstrates how including table relationship information improves SQL query generation accuracy. While table and column names provide a foundation, understanding table relationships significantly enhances query quality.\n",
    "\n",
    "  - Model: Anthropic Haiku\n",
    "  - Techniques:\n",
    "    - Schema Incorporation\n",
    "  - Use-Case: List all San Francisco employees and their manager's name\n",
    "    - Query 1: With schema description\n",
    "    - Query 2: With Schema description and table's relations \n",
    "    \n",
    "The second query, enriched with table relationship details, produces a more precise and efficient result. This approach improves query quality and reduces potential errors in complex database operations.\n",
    "By comparing these queries, you'll see how comprehensive database structure knowledge leads to better SQL generation. \n"
   ]
  },
  {
   "cell_type": "code",
   "execution_count": null,
   "id": "7251ae18-2134-4b51-bca7-239278d636bd",
   "metadata": {
    "tags": []
   },
   "outputs": [],
   "source": [
    "question = \"List the full names of all San Francisco office's employees, along with their managers full names\"\n",
    "\n",
    "prompt = \"\"\"\n",
    "Your task is to generate the simplest and most effective SQL query.\n",
    "Given these tables:\n",
    "offices (\n",
    "  officeCode,\n",
    "  city,\n",
    "  phone,\n",
    "  addressLine1,\n",
    "  addressLine2,\n",
    "  state,\n",
    "  country,\n",
    "  postalCode,\n",
    "  territory\n",
    ");\n",
    "\n",
    "employees (\n",
    "  employeeNumber,\n",
    "  lastName,\n",
    "  firstName,\n",
    "  extension,\n",
    "  email,\n",
    "  officeCode,\n",
    "  reportsTo,\n",
    "  jobTitle\n",
    ");\n",
    "\n",
    "Please be aware of tables columns, sqllite syntax, and the order of the operation in the SQL statement.\n",
    "Please dont add any explanation or intros in your answer, the output should be only the SQL statement ready to run agaisnt the sqlite3 database\n",
    "Please construct only the valid sqlite3 SQL statement to answer the following the question:\n",
    "\"\"\" + question + \"\"\"\n",
    "\n",
    "sql\n",
    "\"\"\""
   ]
  },
  {
   "cell_type": "code",
   "execution_count": null,
   "id": "1a6709a8-d501-4799-b6b5-78f14e308382",
   "metadata": {
    "tags": []
   },
   "outputs": [],
   "source": [
    "query_1_scenario_2 = invoke_anthropic_model(anthropic_haiku, prompt)\n",
    "print(query_1_scenario_2)"
   ]
  },
  {
   "cell_type": "code",
   "execution_count": null,
   "id": "f6d01030-7121-419f-9abf-1f921980c412",
   "metadata": {
    "tags": []
   },
   "outputs": [],
   "source": [
    "question = \"List the full names of all San Francisco office's employees, along with their managers full names\"\n",
    "\n",
    "prompt = \"\"\"\n",
    "Your task is to generate the simplest and most effective SQL query.\n",
    "Given these tables:\n",
    "offices (\n",
    "  officeCode,\n",
    "  city,\n",
    "  phone,\n",
    "  addressLine1,\n",
    "  addressLine2,\n",
    "  state,\n",
    "  country,\n",
    "  postalCode,\n",
    "  territory,\n",
    "  PRIMARY KEY (officeCode)\n",
    ");\n",
    "\n",
    "employees (\n",
    "  employeeNumber,\n",
    "  lastName,\n",
    "  firstName,\n",
    "  extension,\n",
    "  email,\n",
    "  officeCode,\n",
    "  reportsTo,\n",
    "  jobTitle,\n",
    "  PRIMARY KEY (employeeNumber),\n",
    "  FOREIGN KEY (reportsTo) REFERENCES employees (employeeNumber),\n",
    "  FOREIGN KEY (officeCode) REFERENCES offices (officeCode)\n",
    ");\n",
    "\n",
    "Please be aware of tables columns, sqllite syntax, and the order of the operation in the SQL statement.\n",
    "Please dont add any explanation or intros in your answer, the output should be only the SQL statement ready to run agaisnt the sqlite3 database\n",
    "Please construct only the valid sqlite3 SQL statement to answer the following the question:\n",
    "\"\"\" + question + \"\"\"\n",
    "\n",
    "sql\n",
    "\"\"\""
   ]
  },
  {
   "cell_type": "code",
   "execution_count": null,
   "id": "5bab830c-7bca-41ac-8c27-bc9172c617ac",
   "metadata": {
    "tags": []
   },
   "outputs": [],
   "source": [
    "query_2_scenario_2 = invoke_anthropic_model(anthropic_haiku, prompt)\n",
    "print(query_2_scenario_2)"
   ]
  },
  {
   "cell_type": "markdown",
   "id": "0b0c7d70-9b64-4c21-9a41-d39a7ea5db9e",
   "metadata": {
    "tags": []
   },
   "source": [
    "# Queries Execution\n",
    "\n"
   ]
  },
  {
   "cell_type": "code",
   "execution_count": null,
   "id": "53a6156d-58ba-4981-b3a6-b12f23de5707",
   "metadata": {
    "tags": []
   },
   "outputs": [],
   "source": [
    "res = querySQL(query_1_scenario_2)\n",
    "prettyJSON(res)"
   ]
  },
  {
   "cell_type": "code",
   "execution_count": null,
   "id": "7b8c4189-37b3-47a6-8655-a1e3610cd6c3",
   "metadata": {
    "tags": []
   },
   "outputs": [],
   "source": [
    "res = querySQL(query_2_scenario_2)\n",
    "prettyJSON(res)"
   ]
  },
  {
   "cell_type": "markdown",
   "id": "27f0c8a6-d860-46cd-aa62-8059bc57ca6c",
   "metadata": {
    "tags": []
   },
   "source": [
    "## Querty Generation Results\n",
    "- Query 1: Incorrect - Returns all San Francisco employees with their managers' names, excluding the Chief Executive Officer (CEO) who has no manager.\n",
    "- Query 2: Correct - Returns all San Francisco employees with their managers' names, including the CEO\n",
    "\n",
    "## Key Findings\n",
    "- Basic schema descriptions may omit important data (e.g., CEO in Result 1).\n",
    "- Including table relationships produces more comprehensive results (Result 2).\n",
    "\n",
    "Accurate queries require understanding of database structure beyond simple table and column names.\n",
    "This approach ensures all relevant data is retrieved, even in cases with unique hierarchical structures. By specifying table relationships, we create more robust and reliable SQL queries for complex database operations."
   ]
  },
  {
   "cell_type": "markdown",
   "id": "cd777e75-8c40-4df1-8083-a0b38bc03f4f",
   "metadata": {
    "tags": []
   },
   "source": [
    "## Scenario  3 - Improving Query Accuracy with Descriptive Column Names\n",
    "This scenario demonstrates how descriptive column names and targeted schema descriptions enhance SQL query accuracy\n",
    "\n",
    "Have you ever struggled to write accurate SQL queries because of confusing database column names? You're not alone. In this post, we'll explore how to improve query accuracy and efficiency, even when working with poorly named columns.\n",
    "\n",
    "Many databases use cryptic column names that obscure data meaning. For example for the same Customers table we have different column name:\n",
    "'anycompany' database: salesRepEmployeeNumber\n",
    "'chaos_anycompany' database: enumber\n",
    "\n",
    "  - Model: Mistral Large\n",
    "  - Techniques:\n",
    "    - Schema Incorporation\n",
    "  - Use-Case: Count customers that purchased motorcycles\n",
    "    - Query 1: Using anycompany database and schema description\n",
    "    - Query 2: Using chaos_anycompany database and schema description\n",
    "    - Query 3: Using chaos_anycompany database and schema description and relevant columns descripion \n",
    "\n",
    "As a bonus exercise:\n",
    "Consider optimizing the prompt to get the same query, such as removing irrelevant columns"
   ]
  },
  {
   "cell_type": "code",
   "execution_count": null,
   "id": "54cdcc97-cb61-401a-a5df-d65f5ebdf7ba",
   "metadata": {
    "tags": []
   },
   "outputs": [],
   "source": [
    "question = \"How many customers purchased motorcycles\"\n",
    "\n",
    "prompt = \"\"\"\n",
    "Your task is to generate the simplest and most effective SQL query.\n",
    "Given these tables:\n",
    "\n",
    "products (\n",
    "  productCode,\n",
    "  productName,\n",
    "  productLine,\n",
    "  productScale,\n",
    "  productVendor,\n",
    "  productDescription,\n",
    "  quantityInStock,\n",
    "  buyPrice,\n",
    "  MSRP\n",
    ");\n",
    "\n",
    "customers (\n",
    "  customerNumber,\n",
    "  customerName,\n",
    "  contactLastName,\n",
    "  contactFirstName,\n",
    "  phone,\n",
    "  addressLine1,\n",
    "  addressLine2,\n",
    "  city,\n",
    "  state,\n",
    "  postalCode,\n",
    "  country,\n",
    "  salesRepEmployeeNumber,\n",
    "  creditLimit\n",
    ");\n",
    "\n",
    "orders (\n",
    "  orderNumber,\n",
    "  orderDate,\n",
    "  requiredDate,\n",
    "  shippedDate,\n",
    "  status,\n",
    "  comments,\n",
    "  customerNumber\n",
    ");\n",
    "\n",
    "orderdetails(\n",
    "  orderNumber,\n",
    "  productCode,\n",
    "  quantityOrdered,\n",
    "  priceEach,\n",
    "  orderLineNumber \n",
    ");\n",
    "\n",
    "Please be aware of tables columns, sqllite syntax!! and the order of the operation in the SQL statement.\n",
    "Please dont add any explanation or intros in your answer, the output should be only the SQL statement ready to run agaisnt the sqlite3 database\n",
    "Please construct only the valid sqlite3 SQL statement to answer the following the question:\n",
    "\"\"\" + question + \"\"\"\n",
    "\n",
    "sql\n",
    "\"\"\""
   ]
  },
  {
   "cell_type": "code",
   "execution_count": null,
   "id": "05d2eb71-c8a8-4e8b-a92d-e7237a2af1df",
   "metadata": {
    "tags": []
   },
   "outputs": [],
   "source": [
    "query_1_scenario_3 = invoke_mistral_model(prompt, mistral_large)\n",
    "print(query_1_scenario_3)"
   ]
  },
  {
   "cell_type": "code",
   "execution_count": null,
   "id": "977aacb3-ab97-4b74-8b2b-651426e046be",
   "metadata": {
    "tags": []
   },
   "outputs": [],
   "source": [
    "question = \"How many customers purchased motorcycles\"\n",
    "\n",
    "prompt = \"\"\"\n",
    "Your task is to generate the simplest and most effective SQL query.\n",
    "Given these tables:\n",
    "\n",
    "chaos_products (\n",
    "  productCode,\n",
    "  productName,\n",
    "  pline,\n",
    "  productScale,\n",
    "  productVendor,\n",
    "  productDescription,\n",
    "  quantityInStock,\n",
    "  buyPrice,\n",
    "  MSRP\n",
    ");\n",
    "\n",
    "chaos_customers (\n",
    "  customerNumber,\n",
    "  customerName,\n",
    "  contactLastName,\n",
    "  contactFirstName,\n",
    "  phone,\n",
    "  addressLine1,\n",
    "  addressLine2,\n",
    "  city,\n",
    "  state,\n",
    "  postalCode,\n",
    "  country,\n",
    "  enumber,\n",
    "  creditLimit\n",
    ");\n",
    "\n",
    "chaos_orders (\n",
    "  orderNumber,\n",
    "  orderDate,\n",
    "  requiredDate,\n",
    "  shippedDate,\n",
    "  status,\n",
    "  comments,\n",
    "  cnumber\n",
    ");\n",
    "\n",
    "chaos_orderdetails(\n",
    "  orderNumber,\n",
    "  pcode,\n",
    "  quantityOrdered,\n",
    "  priceEach,\n",
    "  orderLineNumber \n",
    ");\n",
    "\n",
    "Please be aware of tables columns, sqllite syntax!! and the order of the operation in the SQL statement.\n",
    "Please dont add any explanation or intros in your answer, the output should be only the SQL statement ready to run agaisnt the sqlite3 database\n",
    "Please construct only the valid sqlite3 SQL statement to answer the following the question:\n",
    "\"\"\" + question + \"\"\"\n",
    "\n",
    "sql\n",
    "\"\"\""
   ]
  },
  {
   "cell_type": "code",
   "execution_count": null,
   "id": "0aace0f2-c57e-431b-a054-e0c87372e1dc",
   "metadata": {
    "tags": []
   },
   "outputs": [],
   "source": [
    "query_2_scenario_3 = invoke_mistral_model(prompt, mistral_large)\n",
    "print(query_2_scenario_3)"
   ]
  },
  {
   "cell_type": "code",
   "execution_count": null,
   "id": "6bf75b0b-26ea-4edb-b0de-d53649183ce6",
   "metadata": {
    "tags": []
   },
   "outputs": [],
   "source": [
    "question = \"How many customers purchased motorcycles\"\n",
    "\n",
    "prompt = \"\"\"\n",
    "Your task is to generate the simplest and most effective SQL query.\n",
    "Given these tables:\n",
    "\n",
    "chaos_products (\n",
    "  productCode,\n",
    "  productName,\n",
    "  pline -- Product line such as Ships, Classic Cars, Motorcycles, etc\n",
    "  productScale,\n",
    "  productVendor,\n",
    "  productDescription,\n",
    "  quantityInStock,\n",
    "  buyPrice,\n",
    "  MSRP\n",
    ");\n",
    "\n",
    "chaos_customers (\n",
    "  customerNumber,\n",
    "  customerName,\n",
    "  contactLastName,\n",
    "  contactFirstName,\n",
    "  phone,\n",
    "  addressLine1,\n",
    "  addressLine2,\n",
    "  city,\n",
    "  state,\n",
    "  postalCode,\n",
    "  country,\n",
    "  enumber,\n",
    "  creditLimit\n",
    ");\n",
    "\n",
    "chaos_orders (\n",
    "  orderNumber,\n",
    "  orderDate,\n",
    "  requiredDate,\n",
    "  shippedDate,\n",
    "  status,\n",
    "  comments,\n",
    "  cnumber\n",
    ");\n",
    "\n",
    "chaos_orderdetails(\n",
    "  orderNumber,\n",
    "  pcode,\n",
    "  quantityOrdered,\n",
    "  priceEach,\n",
    "  orderLineNumber \n",
    ");\n",
    "\n",
    "Please be aware of tables columns, sqllite syntax!! and the order of the operation in the SQL statement.\n",
    "Please dont add any explanation or intros in your answer, the output should be only the SQL statement ready to run agaisnt the sqlite3 database\n",
    "Please construct only the valid sqlite3 SQL statement to answer the following the question:\n",
    "\"\"\" + question + \"\"\"\n",
    "\n",
    "sql\n",
    "\"\"\""
   ]
  },
  {
   "cell_type": "code",
   "execution_count": null,
   "id": "4dc72ca9-092e-4be8-adbd-74a0cc199309",
   "metadata": {
    "tags": []
   },
   "outputs": [],
   "source": [
    "query_3_scenario_3 = invoke_mistral_model(prompt, mistral_large)\n",
    "print(query_3_scenario_3)"
   ]
  },
  {
   "cell_type": "markdown",
   "id": "3c25d6c7-b987-4d94-975a-e00b731206c2",
   "metadata": {
    "tags": []
   },
   "source": [
    "# Queries Execution\n",
    "\n"
   ]
  },
  {
   "cell_type": "code",
   "execution_count": null,
   "id": "9eee0158-df46-4bb8-b9de-d18a4bcc92d3",
   "metadata": {
    "scrolled": true,
    "tags": []
   },
   "outputs": [],
   "source": [
    "res = querySQL(query_1_scenario_3)\n",
    "prettyJSON(res)"
   ]
  },
  {
   "cell_type": "code",
   "execution_count": null,
   "id": "345e76e7-8bb8-4ebd-8c7a-65047bf0b47d",
   "metadata": {
    "tags": []
   },
   "outputs": [],
   "source": [
    "res = querySQL_chaos(query_2_scenario_3)\n",
    "prettyJSON(res)"
   ]
  },
  {
   "cell_type": "code",
   "execution_count": null,
   "id": "ad7ed659-cd6c-4715-9c85-301ec2b58d2d",
   "metadata": {
    "tags": []
   },
   "outputs": [],
   "source": [
    "res = querySQL_chaos(query_3_scenario_3)\n",
    "prettyJSON(res)"
   ]
  },
  {
   "cell_type": "markdown",
   "id": "ffc9acfe-e31b-44ce-a25f-6d4304452e78",
   "metadata": {
    "tags": []
   },
   "source": [
    "## Querty Generation Results\n",
    "- Query 1: Correct - Returns the number of customers that purchased motorcycles - 55\n",
    "- Query 2: Incorrect - Returns false answer - 0\n",
    "- Query 3: Correct - Returns the number of customers that purchased motorcycles - 55\n",
    "\n",
    "## Key Findings\n",
    "- The names of columns in our organization's database are not always descriptive enough for the model to understand the meaning of the column. Therefore we need to describe the relevant columns in our prompt"
   ]
  },
  {
   "cell_type": "markdown",
   "id": "b59a1fa0-c9b0-4552-9028-0fac081149eb",
   "metadata": {
    "tags": []
   },
   "source": [
    "## Scenario  4 - Model Size Impact on SQL Query Accuracy\n",
    "This scenario demonstrates how a smaller model is not capable of providing an accurate SQL query for a given question, whereas a larger model is capable of providing the correct query.\n",
    "\n",
    "  - Models: \n",
    "    - Mistral AI - Mistral large\n",
    "    - Anthropic Claude\n",
    "  - Use Case: List all customers who have ordered products from all product lines\n",
    "    - Qurey 1: Using Mistral 7B\n",
    "    - Qurey 2: Using Mistral large\n",
    "    - Query 3: Using Anthropic Claude\n",
    "  \n",
    "Bonus Exercise: \n",
    "Enhance the prompt to assist Mistral Large in providing an accurate response\n"
   ]
  },
  {
   "cell_type": "code",
   "execution_count": null,
   "id": "24da6071-6302-484b-9af4-5b8384a88689",
   "metadata": {
    "tags": []
   },
   "outputs": [],
   "source": [
    "## TIP: Few Shots"
   ]
  },
  {
   "cell_type": "code",
   "execution_count": null,
   "id": "eb8f760e-0718-4ffe-8729-464c7d2c60c0",
   "metadata": {},
   "outputs": [],
   "source": [
    "question = \"List the names of all customers who have purchased at least one product from each line of products\"\n",
    "\n",
    "prompt = \"\"\"\n",
    "Your task is to generate the simplest and most effective SQL query. Output only SQL, without comments.\n",
    "Given these tables:\n",
    "productlines -- This table consist of all product lines\n",
    "(\n",
    "  productLine varchar(50),\n",
    "  textDescription varchar(4000) DEFAULT NULL,\n",
    "  htmlDescription mediumtext,\n",
    "  image mediumblob,\n",
    "  PRIMARY KEY (productLine)\n",
    ");\n",
    "\n",
    "products (\n",
    "  productCode varchar(15),\n",
    "  productName varchar(70) NOT NULL,\n",
    "  productLine varchar(50) NOT NULL -- product line such as Ships, Classic Cars, etc,\n",
    "  productScale varchar(10) NOT NULL,\n",
    "  productVendor varchar(50) NOT NULL,\n",
    "  productDescription text NOT NULL,\n",
    "  quantityInStock smallint(6) NOT NULL,\n",
    "  buyPrice decimal(10,2) NOT NULL,\n",
    "  MSRP decimal(10,2) NOT NULL,\n",
    "  PRIMARY KEY (productCode),\n",
    "  FOREIGN KEY (productLine) REFERENCES productlines (productLine)\n",
    ");\n",
    "\n",
    "customers (\n",
    "  customerNumber int,\n",
    "  customerName varchar(50) NOT NULL,\n",
    "  contactLastName varchar(50) NOT NULL,\n",
    "  contactFirstName varchar(50) NOT NULL,\n",
    "  phone varchar(50) NOT NULL,\n",
    "  addressLine1 varchar(50) NOT NULL,\n",
    "  addressLine2 varchar(50) DEFAULT NULL,\n",
    "  city varchar(50) NOT NULL,\n",
    "  state varchar(50) DEFAULT NULL,\n",
    "  postalCode varchar(15) DEFAULT NULL,\n",
    "  country varchar(50) NOT NULL,\n",
    "  salesRepEmployeeNumber int DEFAULT NULL,\n",
    "  creditLimit decimal(10,2) DEFAULT NULL,\n",
    "  PRIMARY KEY (customerNumber),\n",
    "  FOREIGN KEY (salesRepEmployeeNumber) REFERENCES employees (employeeNumber)\n",
    ");\n",
    "\n",
    "orders (\n",
    "  orderNumber int,\n",
    "  orderDate date NOT NULL,\n",
    "  requiredDate date NOT NULL,\n",
    "  shippedDate date DEFAULT NULL,\n",
    "  status varchar(15) NOT NULL,\n",
    "  comments text,\n",
    "  customerNumber int NOT NULL,\n",
    "  PRIMARY KEY (orderNumber),\n",
    "  FOREIGN KEY (customerNumber) REFERENCES customers (customerNumber)\n",
    ");\n",
    "\n",
    "orderdetails (\n",
    "  orderNumber int,\n",
    "  productCode varchar(15) NOT NULL,\n",
    "  quantityOrdered int NOT NULL,\n",
    "  priceEach decimal(10,2) NOT NULL,\n",
    "  orderLineNumber smallint(6) NOT NULL,\n",
    "  PRIMARY KEY (orderNumber,productCode),\n",
    "  FOREIGN KEY (orderNumber) REFERENCES orders (orderNumber),\n",
    "  FOREIGN KEY (productCode) REFERENCES products (productCode)\n",
    ");\n",
    "\n",
    "Please be aware of tables,columns, and primary and foreign key.\n",
    "Please dont add any explanation or intros in your answer, the output should be only the SQL statement ready to run agaisnt the sqlite3 database\n",
    "Please construct only the valid sqlite3 SQL statement and syntax to answer the following the question:\n",
    "\"\"\" + question + \"\"\"\n",
    "\n",
    "sql\n",
    "\"\"\""
   ]
  },
  {
   "cell_type": "code",
   "execution_count": null,
   "id": "779cc54c-a99b-42d7-836e-6ece1b10f4cd",
   "metadata": {
    "tags": []
   },
   "outputs": [],
   "source": [
    "query_1_scenario_4 = invoke_mistral_model(prompt, mistral7b)\n",
    "print(query_1_scenario_4)"
   ]
  },
  {
   "cell_type": "code",
   "execution_count": null,
   "id": "fc30f1e3-854d-4330-9bdc-3652e286f339",
   "metadata": {},
   "outputs": [],
   "source": [
    "query_2_scenario_4 = invoke_mistral_model(prompt, mistral_large)\n",
    "print(query_2_scenario_4)"
   ]
  },
  {
   "cell_type": "code",
   "execution_count": null,
   "id": "3ae5b5bc-fd18-4f13-b060-0148d883f25a",
   "metadata": {
    "tags": []
   },
   "outputs": [],
   "source": [
    "query_3_scenario_4 = invoke_anthropic_model(anthropic_haiku, prompt)\n",
    "print(query_2_scenario_4)"
   ]
  },
  {
   "cell_type": "markdown",
   "id": "42c261fc-01ec-46d3-8a57-d8a3ffa1c842",
   "metadata": {
    "tags": []
   },
   "source": [
    "# Queries Execution\n",
    "\n"
   ]
  },
  {
   "cell_type": "code",
   "execution_count": null,
   "id": "ac0350e5-14d1-496e-92fb-1f22348be02d",
   "metadata": {
    "scrolled": true,
    "tags": []
   },
   "outputs": [],
   "source": [
    "res = querySQL(query_1_scenario_4)\n",
    "prettyJSON(res)"
   ]
  },
  {
   "cell_type": "code",
   "execution_count": null,
   "id": "16717758-4841-4ddb-bb2b-ddf1568df46f",
   "metadata": {},
   "outputs": [],
   "source": [
    "res = querySQL(query_2_scenario_4)\n",
    "prettyJSON(res)"
   ]
  },
  {
   "cell_type": "code",
   "execution_count": null,
   "id": "9aa140ca-81a4-40f3-b085-d8687559f682",
   "metadata": {
    "scrolled": true,
    "tags": []
   },
   "outputs": [],
   "source": [
    "res = querySQL( query_3_scenario_4 )\n",
    "prettyJSON(res)"
   ]
  },
  {
   "cell_type": "markdown",
   "id": "ee72f06e-1130-4ebe-acb2-495285d27e7d",
   "metadata": {
    "tags": []
   },
   "source": [
    "## Results\n",
    "- Result 1: with Mistral7b Instruct - wrong query, wrong results\n",
    "- Result 2: With Mistral Large - correct query, not optimized, correct results\n",
    "- Result 3: With Antropic Claude Haiku - correct query, correct results\n",
    "\n",
    "## Key Findings\n",
    "- Larger language models like Antropic Claude Haiku have better capabilities in understanding context, capturing relationships between entities, and performing complex reasoning, which are crucial for accurately translating natural language queries into optimized SQL statements based on a given database schema."
   ]
  },
  {
   "cell_type": "markdown",
   "id": "3da04772-caff-4aad-82fa-9d06986179cc",
   "metadata": {
    "tags": []
   },
   "source": [
    "## Scenario  5 - Enhancing SQL Query Generation with Single Document RAG and Database Schema\n",
    "This scenario demonstrates the use of a Single Document Retrieval Augmented Generation (RAG) model with database schema to improve SQL query generation.\n",
    "The RAG model provides relevant schema details, which are then incorporated into the prompt for the main model. This approach simplifies the integration of schema information, especially for large and complex databases.\n",
    "\n",
    "  - Model: \n",
    "    - Anthropic Claude 3 Sonnet\n",
    "  - Use Cases: Scenarios #2 #3 #4\n",
    "    - Qurey 1: List customer names who have ordered products from all product lines\n",
    "    - Query 2: Count customers that purchased motorcycles\n",
    "    - Query 3: List all San Francisco employees and their manager's name\n",
    "  - Method: Single Document Retrieval Augmented Generation (RAG) with Bedrock Knowledge Bases\n",
    "  - Reference: https://aws.amazon.com/blogs/machine-learning/knowledge-bases-in-amazon-bedrock-now-simplifies-asking-questions-on-a-single-document/\n",
    "\n"
   ]
  },
  {
   "cell_type": "code",
   "execution_count": null,
   "id": "3b0a67ce",
   "metadata": {},
   "outputs": [],
   "source": [
    "question1 = \"List the names of all customers who have purchased at least one product from each line of products\""
   ]
  },
  {
   "cell_type": "code",
   "execution_count": null,
   "id": "3f530a5f-58b4-43d5-ba71-098176054e02",
   "metadata": {},
   "outputs": [],
   "source": [
    "question2 = \"How many customers purchased motorcycles\""
   ]
  },
  {
   "cell_type": "code",
   "execution_count": null,
   "id": "d41cea69-a333-4a17-aa8c-498dac7a54d1",
   "metadata": {},
   "outputs": [],
   "source": [
    "question3 = \"List the full names of all San Francisco office's employees, along with their managers full names\""
   ]
  },
  {
   "cell_type": "code",
   "execution_count": null,
   "id": "65424e67",
   "metadata": {},
   "outputs": [],
   "source": [
    "question_for_rag_template = \"Provide schema representation containing table name, column names, and relationships between tables for the following question: {0}  The output should be a clean text containing the table's description. Don't write any explanations and comments\""
   ]
  },
  {
   "cell_type": "markdown",
   "id": "daa3d677-f59d-4c03-8ceb-de2bbd638cd7",
   "metadata": {
    "tags": []
   },
   "source": [
    "## Crafting the questions for RAG"
   ]
  },
  {
   "cell_type": "code",
   "execution_count": null,
   "id": "377f8920-9f8b-4b10-ab37-1538bfe63e6d",
   "metadata": {},
   "outputs": [],
   "source": [
    "question1_for_rag = question_for_rag_template.format(question1)"
   ]
  },
  {
   "cell_type": "code",
   "execution_count": null,
   "id": "db154256-7c47-4ba5-bfdc-ff7cf9ed59d7",
   "metadata": {},
   "outputs": [],
   "source": [
    "question2_for_rag = question_for_rag_template.format(question2)"
   ]
  },
  {
   "cell_type": "code",
   "execution_count": null,
   "id": "a4e51711-e8df-478e-b80f-0ddf83cc8b85",
   "metadata": {},
   "outputs": [],
   "source": [
    "question3_for_rag = question_for_rag_template.format(question3)"
   ]
  },
  {
   "cell_type": "markdown",
   "id": "daa0d8aa-2603-4e40-92f7-31d3097c177a",
   "metadata": {
    "tags": []
   },
   "source": [
    "## Retrieving schema description from the RAG output"
   ]
  },
  {
   "cell_type": "code",
   "execution_count": null,
   "id": "0a87d466",
   "metadata": {
    "tags": []
   },
   "outputs": [],
   "source": [
    "res1 = retrieveAndGenerate(question1_for_rag)\n",
    "prettyJSON(res1)"
   ]
  },
  {
   "cell_type": "code",
   "execution_count": null,
   "id": "45ca0088-7275-4c5b-ab4c-9fe3e10e59e6",
   "metadata": {
    "scrolled": true,
    "tags": []
   },
   "outputs": [],
   "source": [
    "res2 = retrieveAndGenerate(question2_for_rag)\n",
    "prettyJSON(res2)"
   ]
  },
  {
   "cell_type": "code",
   "execution_count": null,
   "id": "60589e38-a435-47f8-b08d-c392868cc837",
   "metadata": {},
   "outputs": [],
   "source": [
    "res3 = retrieveAndGenerate(question3_for_rag)\n",
    "prettyJSON(res3)"
   ]
  },
  {
   "cell_type": "markdown",
   "id": "d23288bf-64e1-4bce-9133-d462b65d7087",
   "metadata": {
    "tags": []
   },
   "source": [
    "## Consolidating the queastions and the RAG Outputs into cohesive prompts"
   ]
  },
  {
   "cell_type": "code",
   "execution_count": null,
   "id": "50979788-1f06-439d-872c-a73910a5f3a5",
   "metadata": {},
   "outputs": [],
   "source": [
    "prompt1 = \"\"\"\n",
    "Your task is to generate the simplest and most effective SQL query. Output only SQL, without comments.\n",
    "Given these tables:\n",
    "    \"\"\" + res1 + \"\"\"\n",
    "\n",
    "Please be aware of tables,columns, and primary and foreign key.\n",
    "Dont add any explanation or intros in your answer, the output should be only the SQL statement ready to run against the sqlite3 database\n",
    "Construct only the valid sqlite3 SQL statement and syntax to answer the following the question:\n",
    "\"\"\" + question1 + \"\"\"\n",
    "\n",
    "sql\n",
    "\"\"\"\n",
    "\n",
    "prompt2 = \"\"\"\n",
    "Your task is to generate the simplest and most effective SQL query. Output only SQL, without comments.\n",
    "Given these tables:\n",
    "    \"\"\" + res2 + \"\"\"\n",
    "\n",
    "Please be aware of tables,columns, and primary and foreign key.\n",
    "Dont add any explanation or intros in your answer, the output should be only the SQL statement ready to run against the sqlite3 database\n",
    "Construct only the valid sqlite3 SQL statement and syntax to answer the following the question:\n",
    "\"\"\" + question2 + \"\"\"\n",
    "\n",
    "sql\n",
    "\"\"\"\n",
    "\n",
    "prompt3 = \"\"\"\n",
    "Your task is to generate the simplest and most effective SQL query. Output only SQL, without comments.\n",
    "Given these tables:\n",
    "    \"\"\" + res3 + \"\"\"\n",
    "\n",
    "Please be aware of tables columns, sqllite syntax, and the order of the operation in the SQL statement.\n",
    "Please dont add any explanation or intros in your answer, the output should be only the SQL statement ready to run agaisnt the sqlite3 database\n",
    "Please construct only the valid sqlite3 SQL statement to answer the following the question:\n",
    "\"\"\" + question3 + \"\"\"\n",
    "\n",
    "sql\n",
    "\"\"\""
   ]
  },
  {
   "cell_type": "markdown",
   "id": "eefc9add-7a2e-4eb4-8814-370d90dda8e6",
   "metadata": {
    "tags": []
   },
   "source": [
    "## SQL Query Generation"
   ]
  },
  {
   "cell_type": "code",
   "execution_count": null,
   "id": "92fcc5db-5a51-48f9-9b1e-399a3cf51ff8",
   "metadata": {},
   "outputs": [],
   "source": [
    "query_1_scenario_5 = invoke_anthropic_model(anthropic_haiku, prompt1)\n",
    "print(query_1_scenario_5)"
   ]
  },
  {
   "cell_type": "code",
   "execution_count": null,
   "id": "84f2aa1c-445a-4271-9068-ef725ea2751b",
   "metadata": {},
   "outputs": [],
   "source": [
    "query_2_scenario_5 = invoke_anthropic_model(anthropic_haiku, prompt2)\n",
    "print(query_2_scenario_1)"
   ]
  },
  {
   "cell_type": "code",
   "execution_count": null,
   "id": "2e8723a7-ccea-4369-90d6-4eec239d5528",
   "metadata": {},
   "outputs": [],
   "source": [
    "print (prompt3)\n",
    "query_3_scenario_5 = invoke_anthropic_model(anthropic_haiku, prompt3)\n",
    "print(query_3_scenario_5)"
   ]
  },
  {
   "cell_type": "markdown",
   "id": "734383fa-04c7-446c-ad92-335449319dfb",
   "metadata": {
    "tags": []
   },
   "source": [
    "# Queries Execution\n",
    "- Please note the results are identical to the results we received the previous scenarios"
   ]
  },
  {
   "cell_type": "code",
   "execution_count": null,
   "id": "89704a8a-d594-4df2-b0bd-78b903bf53d3",
   "metadata": {
    "scrolled": true
   },
   "outputs": [],
   "source": [
    "res = querySQL(query_1_scenario_5)\n",
    "prettyJSON(res)"
   ]
  },
  {
   "cell_type": "code",
   "execution_count": null,
   "id": "5f2b712f-990d-4812-8186-6d546ae69e2d",
   "metadata": {
    "scrolled": true
   },
   "outputs": [],
   "source": [
    "res = querySQL(query_2_scenario_1)\n",
    "prettyJSON(res)"
   ]
  },
  {
   "cell_type": "code",
   "execution_count": null,
   "id": "bb104cfa-976c-4f1b-b293-469407d72c2f",
   "metadata": {
    "scrolled": true
   },
   "outputs": [],
   "source": [
    "res = querySQL(query_3_scenario_5)\n",
    "prettyJSON(res)"
   ]
  },
  {
   "cell_type": "markdown",
   "id": "7b8f505f",
   "metadata": {
    "tags": []
   },
   "source": [
    "## Test your knowledge \n",
    "Apply the learned techniques to write multiple prompts for the following questions using any of the workshop models:\n",
    "\n",
    " - What are the names of all the product lines?\n",
    " - List all the products with their names, scales, and vendors.\n",
    " - Show the first and last names of all employe\n",
    " - Find the names and credit limits of customers who have a sales representative assigned.\n",
    " - Retrieve the order numbers, order dates, and statuses for orders placed in the year 2022.\n",
    " - Get the product codes and quantities ordered for a specific order number.\n",
    " - Calculate the total revenue (quantity ordered * price each) for each product line, ordered by revenue in descending order.\n",
    " - Retrieve the names of customers who have placed orders for products from all product lines, along with the number of distinct product lines they have ordered from.\n"
   ]
  },
  {
   "cell_type": "code",
   "execution_count": null,
   "id": "9cfac863-7220-4eb3-9ec8-9bea4879de3f",
   "metadata": {
    "tags": []
   },
   "outputs": [],
   "source": [
    "question = \"\"\n",
    "\n",
    "prompt = \"\"\"\n",
    "Your task is to generate the simplest and most effective SQL query.\n",
    "Given these tables:\n",
    "\n",
    "\n",
    "\n",
    "Please be aware of tables columns, sqllite syntax, and the order of the operation in the SQL statement.\n",
    "Please dont add any explanation or intros in your answer, the output should be only the SQL statement ready to run agaisnt the sqlite3 database\n",
    "Please construct only the valid sqlite3 SQL statement to answer the following the question:\n",
    "\"\"\" + question + \"\"\"\n",
    "\n",
    "sql\n",
    "\"\"\""
   ]
  },
  {
   "cell_type": "code",
   "execution_count": null,
   "id": "fcec935b-9b9f-4d29-922d-290428f7af86",
   "metadata": {},
   "outputs": [],
   "source": [
    "query_rag = question_for_rag_template.format(question)"
   ]
  },
  {
   "cell_type": "code",
   "execution_count": null,
   "id": "707ed5ad-174a-4469-a2e3-93d3d5212c18",
   "metadata": {
    "scrolled": true,
    "tags": []
   },
   "outputs": [],
   "source": [
    "res = retrieveAndGenerate(query_rag)\n",
    "prettyJSON(res)"
   ]
  },
  {
   "cell_type": "code",
   "execution_count": null,
   "id": "bc9c2547-ab15-4a9e-9c9c-a54eff68f717",
   "metadata": {
    "tags": []
   },
   "outputs": [],
   "source": [
    "query_1 = invoke_mistral_model(prompt, mistral7b)\n",
    "print(query_1)"
   ]
  },
  {
   "cell_type": "code",
   "execution_count": null,
   "id": "0e844954-e929-499e-af11-d930bbf8d371",
   "metadata": {
    "tags": []
   },
   "outputs": [],
   "source": [
    "query_2 = invoke_anthropic_model(anthropic_haiku, prompt)\n",
    "print(query_2)"
   ]
  },
  {
   "cell_type": "markdown",
   "id": "24a60a4d-14dd-42b6-85f0-30eab570ccbb",
   "metadata": {
    "tags": []
   },
   "source": [
    "# Queries Execution\n",
    "\n"
   ]
  },
  {
   "cell_type": "code",
   "execution_count": null,
   "id": "1d282627-0c43-4fea-9dab-5540a69d4e25",
   "metadata": {
    "scrolled": true,
    "tags": []
   },
   "outputs": [],
   "source": [
    "res = querySQL(query_1)\n",
    "prettyJSON(res)"
   ]
  },
  {
   "cell_type": "code",
   "execution_count": null,
   "id": "41de7159-3d87-4429-9333-9b875291a7da",
   "metadata": {
    "scrolled": true
   },
   "outputs": [],
   "source": [
    "res = querySQL(query_2)\n",
    "prettyJSON(res)"
   ]
  },
  {
   "cell_type": "markdown",
   "id": "cd219a56-ae74-4999-8e82-e2981c942bfe",
   "metadata": {},
   "source": [
    "## Thank You"
   ]
  },
  {
   "cell_type": "code",
   "execution_count": null,
   "id": "b0b1403a-a617-47aa-84b8-f1611d907af7",
   "metadata": {},
   "outputs": [],
   "source": []
  }
 ],
 "metadata": {
  "availableInstances": [
   {
    "_defaultOrder": 0,
    "_isFastLaunch": true,
    "category": "General purpose",
    "gpuNum": 0,
    "hideHardwareSpecs": false,
    "memoryGiB": 4,
    "name": "ml.t3.medium",
    "vcpuNum": 2
   },
   {
    "_defaultOrder": 1,
    "_isFastLaunch": false,
    "category": "General purpose",
    "gpuNum": 0,
    "hideHardwareSpecs": false,
    "memoryGiB": 8,
    "name": "ml.t3.large",
    "vcpuNum": 2
   },
   {
    "_defaultOrder": 2,
    "_isFastLaunch": false,
    "category": "General purpose",
    "gpuNum": 0,
    "hideHardwareSpecs": false,
    "memoryGiB": 16,
    "name": "ml.t3.xlarge",
    "vcpuNum": 4
   },
   {
    "_defaultOrder": 3,
    "_isFastLaunch": false,
    "category": "General purpose",
    "gpuNum": 0,
    "hideHardwareSpecs": false,
    "memoryGiB": 32,
    "name": "ml.t3.2xlarge",
    "vcpuNum": 8
   },
   {
    "_defaultOrder": 4,
    "_isFastLaunch": true,
    "category": "General purpose",
    "gpuNum": 0,
    "hideHardwareSpecs": false,
    "memoryGiB": 8,
    "name": "ml.m5.large",
    "vcpuNum": 2
   },
   {
    "_defaultOrder": 5,
    "_isFastLaunch": false,
    "category": "General purpose",
    "gpuNum": 0,
    "hideHardwareSpecs": false,
    "memoryGiB": 16,
    "name": "ml.m5.xlarge",
    "vcpuNum": 4
   },
   {
    "_defaultOrder": 6,
    "_isFastLaunch": false,
    "category": "General purpose",
    "gpuNum": 0,
    "hideHardwareSpecs": false,
    "memoryGiB": 32,
    "name": "ml.m5.2xlarge",
    "vcpuNum": 8
   },
   {
    "_defaultOrder": 7,
    "_isFastLaunch": false,
    "category": "General purpose",
    "gpuNum": 0,
    "hideHardwareSpecs": false,
    "memoryGiB": 64,
    "name": "ml.m5.4xlarge",
    "vcpuNum": 16
   },
   {
    "_defaultOrder": 8,
    "_isFastLaunch": false,
    "category": "General purpose",
    "gpuNum": 0,
    "hideHardwareSpecs": false,
    "memoryGiB": 128,
    "name": "ml.m5.8xlarge",
    "vcpuNum": 32
   },
   {
    "_defaultOrder": 9,
    "_isFastLaunch": false,
    "category": "General purpose",
    "gpuNum": 0,
    "hideHardwareSpecs": false,
    "memoryGiB": 192,
    "name": "ml.m5.12xlarge",
    "vcpuNum": 48
   },
   {
    "_defaultOrder": 10,
    "_isFastLaunch": false,
    "category": "General purpose",
    "gpuNum": 0,
    "hideHardwareSpecs": false,
    "memoryGiB": 256,
    "name": "ml.m5.16xlarge",
    "vcpuNum": 64
   },
   {
    "_defaultOrder": 11,
    "_isFastLaunch": false,
    "category": "General purpose",
    "gpuNum": 0,
    "hideHardwareSpecs": false,
    "memoryGiB": 384,
    "name": "ml.m5.24xlarge",
    "vcpuNum": 96
   },
   {
    "_defaultOrder": 12,
    "_isFastLaunch": false,
    "category": "General purpose",
    "gpuNum": 0,
    "hideHardwareSpecs": false,
    "memoryGiB": 8,
    "name": "ml.m5d.large",
    "vcpuNum": 2
   },
   {
    "_defaultOrder": 13,
    "_isFastLaunch": false,
    "category": "General purpose",
    "gpuNum": 0,
    "hideHardwareSpecs": false,
    "memoryGiB": 16,
    "name": "ml.m5d.xlarge",
    "vcpuNum": 4
   },
   {
    "_defaultOrder": 14,
    "_isFastLaunch": false,
    "category": "General purpose",
    "gpuNum": 0,
    "hideHardwareSpecs": false,
    "memoryGiB": 32,
    "name": "ml.m5d.2xlarge",
    "vcpuNum": 8
   },
   {
    "_defaultOrder": 15,
    "_isFastLaunch": false,
    "category": "General purpose",
    "gpuNum": 0,
    "hideHardwareSpecs": false,
    "memoryGiB": 64,
    "name": "ml.m5d.4xlarge",
    "vcpuNum": 16
   },
   {
    "_defaultOrder": 16,
    "_isFastLaunch": false,
    "category": "General purpose",
    "gpuNum": 0,
    "hideHardwareSpecs": false,
    "memoryGiB": 128,
    "name": "ml.m5d.8xlarge",
    "vcpuNum": 32
   },
   {
    "_defaultOrder": 17,
    "_isFastLaunch": false,
    "category": "General purpose",
    "gpuNum": 0,
    "hideHardwareSpecs": false,
    "memoryGiB": 192,
    "name": "ml.m5d.12xlarge",
    "vcpuNum": 48
   },
   {
    "_defaultOrder": 18,
    "_isFastLaunch": false,
    "category": "General purpose",
    "gpuNum": 0,
    "hideHardwareSpecs": false,
    "memoryGiB": 256,
    "name": "ml.m5d.16xlarge",
    "vcpuNum": 64
   },
   {
    "_defaultOrder": 19,
    "_isFastLaunch": false,
    "category": "General purpose",
    "gpuNum": 0,
    "hideHardwareSpecs": false,
    "memoryGiB": 384,
    "name": "ml.m5d.24xlarge",
    "vcpuNum": 96
   },
   {
    "_defaultOrder": 20,
    "_isFastLaunch": false,
    "category": "General purpose",
    "gpuNum": 0,
    "hideHardwareSpecs": true,
    "memoryGiB": 0,
    "name": "ml.geospatial.interactive",
    "supportedImageNames": [
     "sagemaker-geospatial-v1-0"
    ],
    "vcpuNum": 0
   },
   {
    "_defaultOrder": 21,
    "_isFastLaunch": true,
    "category": "Compute optimized",
    "gpuNum": 0,
    "hideHardwareSpecs": false,
    "memoryGiB": 4,
    "name": "ml.c5.large",
    "vcpuNum": 2
   },
   {
    "_defaultOrder": 22,
    "_isFastLaunch": false,
    "category": "Compute optimized",
    "gpuNum": 0,
    "hideHardwareSpecs": false,
    "memoryGiB": 8,
    "name": "ml.c5.xlarge",
    "vcpuNum": 4
   },
   {
    "_defaultOrder": 23,
    "_isFastLaunch": false,
    "category": "Compute optimized",
    "gpuNum": 0,
    "hideHardwareSpecs": false,
    "memoryGiB": 16,
    "name": "ml.c5.2xlarge",
    "vcpuNum": 8
   },
   {
    "_defaultOrder": 24,
    "_isFastLaunch": false,
    "category": "Compute optimized",
    "gpuNum": 0,
    "hideHardwareSpecs": false,
    "memoryGiB": 32,
    "name": "ml.c5.4xlarge",
    "vcpuNum": 16
   },
   {
    "_defaultOrder": 25,
    "_isFastLaunch": false,
    "category": "Compute optimized",
    "gpuNum": 0,
    "hideHardwareSpecs": false,
    "memoryGiB": 72,
    "name": "ml.c5.9xlarge",
    "vcpuNum": 36
   },
   {
    "_defaultOrder": 26,
    "_isFastLaunch": false,
    "category": "Compute optimized",
    "gpuNum": 0,
    "hideHardwareSpecs": false,
    "memoryGiB": 96,
    "name": "ml.c5.12xlarge",
    "vcpuNum": 48
   },
   {
    "_defaultOrder": 27,
    "_isFastLaunch": false,
    "category": "Compute optimized",
    "gpuNum": 0,
    "hideHardwareSpecs": false,
    "memoryGiB": 144,
    "name": "ml.c5.18xlarge",
    "vcpuNum": 72
   },
   {
    "_defaultOrder": 28,
    "_isFastLaunch": false,
    "category": "Compute optimized",
    "gpuNum": 0,
    "hideHardwareSpecs": false,
    "memoryGiB": 192,
    "name": "ml.c5.24xlarge",
    "vcpuNum": 96
   },
   {
    "_defaultOrder": 29,
    "_isFastLaunch": true,
    "category": "Accelerated computing",
    "gpuNum": 1,
    "hideHardwareSpecs": false,
    "memoryGiB": 16,
    "name": "ml.g4dn.xlarge",
    "vcpuNum": 4
   },
   {
    "_defaultOrder": 30,
    "_isFastLaunch": false,
    "category": "Accelerated computing",
    "gpuNum": 1,
    "hideHardwareSpecs": false,
    "memoryGiB": 32,
    "name": "ml.g4dn.2xlarge",
    "vcpuNum": 8
   },
   {
    "_defaultOrder": 31,
    "_isFastLaunch": false,
    "category": "Accelerated computing",
    "gpuNum": 1,
    "hideHardwareSpecs": false,
    "memoryGiB": 64,
    "name": "ml.g4dn.4xlarge",
    "vcpuNum": 16
   },
   {
    "_defaultOrder": 32,
    "_isFastLaunch": false,
    "category": "Accelerated computing",
    "gpuNum": 1,
    "hideHardwareSpecs": false,
    "memoryGiB": 128,
    "name": "ml.g4dn.8xlarge",
    "vcpuNum": 32
   },
   {
    "_defaultOrder": 33,
    "_isFastLaunch": false,
    "category": "Accelerated computing",
    "gpuNum": 4,
    "hideHardwareSpecs": false,
    "memoryGiB": 192,
    "name": "ml.g4dn.12xlarge",
    "vcpuNum": 48
   },
   {
    "_defaultOrder": 34,
    "_isFastLaunch": false,
    "category": "Accelerated computing",
    "gpuNum": 1,
    "hideHardwareSpecs": false,
    "memoryGiB": 256,
    "name": "ml.g4dn.16xlarge",
    "vcpuNum": 64
   },
   {
    "_defaultOrder": 35,
    "_isFastLaunch": false,
    "category": "Accelerated computing",
    "gpuNum": 1,
    "hideHardwareSpecs": false,
    "memoryGiB": 61,
    "name": "ml.p3.2xlarge",
    "vcpuNum": 8
   },
   {
    "_defaultOrder": 36,
    "_isFastLaunch": false,
    "category": "Accelerated computing",
    "gpuNum": 4,
    "hideHardwareSpecs": false,
    "memoryGiB": 244,
    "name": "ml.p3.8xlarge",
    "vcpuNum": 32
   },
   {
    "_defaultOrder": 37,
    "_isFastLaunch": false,
    "category": "Accelerated computing",
    "gpuNum": 8,
    "hideHardwareSpecs": false,
    "memoryGiB": 488,
    "name": "ml.p3.16xlarge",
    "vcpuNum": 64
   },
   {
    "_defaultOrder": 38,
    "_isFastLaunch": false,
    "category": "Accelerated computing",
    "gpuNum": 8,
    "hideHardwareSpecs": false,
    "memoryGiB": 768,
    "name": "ml.p3dn.24xlarge",
    "vcpuNum": 96
   },
   {
    "_defaultOrder": 39,
    "_isFastLaunch": false,
    "category": "Memory Optimized",
    "gpuNum": 0,
    "hideHardwareSpecs": false,
    "memoryGiB": 16,
    "name": "ml.r5.large",
    "vcpuNum": 2
   },
   {
    "_defaultOrder": 40,
    "_isFastLaunch": false,
    "category": "Memory Optimized",
    "gpuNum": 0,
    "hideHardwareSpecs": false,
    "memoryGiB": 32,
    "name": "ml.r5.xlarge",
    "vcpuNum": 4
   },
   {
    "_defaultOrder": 41,
    "_isFastLaunch": false,
    "category": "Memory Optimized",
    "gpuNum": 0,
    "hideHardwareSpecs": false,
    "memoryGiB": 64,
    "name": "ml.r5.2xlarge",
    "vcpuNum": 8
   },
   {
    "_defaultOrder": 42,
    "_isFastLaunch": false,
    "category": "Memory Optimized",
    "gpuNum": 0,
    "hideHardwareSpecs": false,
    "memoryGiB": 128,
    "name": "ml.r5.4xlarge",
    "vcpuNum": 16
   },
   {
    "_defaultOrder": 43,
    "_isFastLaunch": false,
    "category": "Memory Optimized",
    "gpuNum": 0,
    "hideHardwareSpecs": false,
    "memoryGiB": 256,
    "name": "ml.r5.8xlarge",
    "vcpuNum": 32
   },
   {
    "_defaultOrder": 44,
    "_isFastLaunch": false,
    "category": "Memory Optimized",
    "gpuNum": 0,
    "hideHardwareSpecs": false,
    "memoryGiB": 384,
    "name": "ml.r5.12xlarge",
    "vcpuNum": 48
   },
   {
    "_defaultOrder": 45,
    "_isFastLaunch": false,
    "category": "Memory Optimized",
    "gpuNum": 0,
    "hideHardwareSpecs": false,
    "memoryGiB": 512,
    "name": "ml.r5.16xlarge",
    "vcpuNum": 64
   },
   {
    "_defaultOrder": 46,
    "_isFastLaunch": false,
    "category": "Memory Optimized",
    "gpuNum": 0,
    "hideHardwareSpecs": false,
    "memoryGiB": 768,
    "name": "ml.r5.24xlarge",
    "vcpuNum": 96
   },
   {
    "_defaultOrder": 47,
    "_isFastLaunch": false,
    "category": "Accelerated computing",
    "gpuNum": 1,
    "hideHardwareSpecs": false,
    "memoryGiB": 16,
    "name": "ml.g5.xlarge",
    "vcpuNum": 4
   },
   {
    "_defaultOrder": 48,
    "_isFastLaunch": false,
    "category": "Accelerated computing",
    "gpuNum": 1,
    "hideHardwareSpecs": false,
    "memoryGiB": 32,
    "name": "ml.g5.2xlarge",
    "vcpuNum": 8
   },
   {
    "_defaultOrder": 49,
    "_isFastLaunch": false,
    "category": "Accelerated computing",
    "gpuNum": 1,
    "hideHardwareSpecs": false,
    "memoryGiB": 64,
    "name": "ml.g5.4xlarge",
    "vcpuNum": 16
   },
   {
    "_defaultOrder": 50,
    "_isFastLaunch": false,
    "category": "Accelerated computing",
    "gpuNum": 1,
    "hideHardwareSpecs": false,
    "memoryGiB": 128,
    "name": "ml.g5.8xlarge",
    "vcpuNum": 32
   },
   {
    "_defaultOrder": 51,
    "_isFastLaunch": false,
    "category": "Accelerated computing",
    "gpuNum": 1,
    "hideHardwareSpecs": false,
    "memoryGiB": 256,
    "name": "ml.g5.16xlarge",
    "vcpuNum": 64
   },
   {
    "_defaultOrder": 52,
    "_isFastLaunch": false,
    "category": "Accelerated computing",
    "gpuNum": 4,
    "hideHardwareSpecs": false,
    "memoryGiB": 192,
    "name": "ml.g5.12xlarge",
    "vcpuNum": 48
   },
   {
    "_defaultOrder": 53,
    "_isFastLaunch": false,
    "category": "Accelerated computing",
    "gpuNum": 4,
    "hideHardwareSpecs": false,
    "memoryGiB": 384,
    "name": "ml.g5.24xlarge",
    "vcpuNum": 96
   },
   {
    "_defaultOrder": 54,
    "_isFastLaunch": false,
    "category": "Accelerated computing",
    "gpuNum": 8,
    "hideHardwareSpecs": false,
    "memoryGiB": 768,
    "name": "ml.g5.48xlarge",
    "vcpuNum": 192
   },
   {
    "_defaultOrder": 55,
    "_isFastLaunch": false,
    "category": "Accelerated computing",
    "gpuNum": 8,
    "hideHardwareSpecs": false,
    "memoryGiB": 1152,
    "name": "ml.p4d.24xlarge",
    "vcpuNum": 96
   },
   {
    "_defaultOrder": 56,
    "_isFastLaunch": false,
    "category": "Accelerated computing",
    "gpuNum": 8,
    "hideHardwareSpecs": false,
    "memoryGiB": 1152,
    "name": "ml.p4de.24xlarge",
    "vcpuNum": 96
   },
   {
    "_defaultOrder": 57,
    "_isFastLaunch": false,
    "category": "Accelerated computing",
    "gpuNum": 0,
    "hideHardwareSpecs": false,
    "memoryGiB": 32,
    "name": "ml.trn1.2xlarge",
    "vcpuNum": 8
   },
   {
    "_defaultOrder": 58,
    "_isFastLaunch": false,
    "category": "Accelerated computing",
    "gpuNum": 0,
    "hideHardwareSpecs": false,
    "memoryGiB": 512,
    "name": "ml.trn1.32xlarge",
    "vcpuNum": 128
   },
   {
    "_defaultOrder": 59,
    "_isFastLaunch": false,
    "category": "Accelerated computing",
    "gpuNum": 0,
    "hideHardwareSpecs": false,
    "memoryGiB": 512,
    "name": "ml.trn1n.32xlarge",
    "vcpuNum": 128
   }
  ],
  "instance_type": "ml.t3.medium",
  "kernelspec": {
   "display_name": "Python 3 (ipykernel)",
   "language": "python",
   "name": "python3"
  },
  "language_info": {
   "codemirror_mode": {
    "name": "ipython",
    "version": 3
   },
   "file_extension": ".py",
   "mimetype": "text/x-python",
   "name": "python",
   "nbconvert_exporter": "python",
   "pygments_lexer": "ipython3",
   "version": "3.11.10"
  }
 },
 "nbformat": 4,
 "nbformat_minor": 5
}
